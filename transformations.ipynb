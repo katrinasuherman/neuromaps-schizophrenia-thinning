{
 "cells": [
  {
   "cell_type": "markdown",
   "id": "ea0a8304",
   "metadata": {},
   "source": [
    "Import configs"
   ]
  },
  {
   "cell_type": "code",
   "execution_count": 20,
   "id": "6d215c70",
   "metadata": {},
   "outputs": [
    {
     "name": "stdout",
     "output_type": "stream",
     "text": [
      "Connectome Workbench\n",
      "Type: Command Line Application\n",
      "Version: 2.0.1\n",
      "Qt Compiled Version: 6.2.3\n",
      "Qt Runtime Version: 6.2.3\n",
      "Commit: 150de12f4f4b94b39bec6d9133ad2e7019d2d3ef\n",
      "Commit Date: 2024-10-15 17:38:41 -0500\n",
      "Compiler: c++ (/Applications/Xcode.app/Contents/Developer/Toolchains/XcodeDefault.xctoolchain/usr/bin)\n",
      "Compiler Version: 13.0.0.13000029\n",
      "Compiled Debug: NO\n",
      "Operating System: Apple OSX\n",
      "Compiled with OpenMP: YES\n"
     ]
    },
    {
     "data": {
      "text/plain": [
       "CompletedProcess(args=['wb_command', '-version'], returncode=0)"
      ]
     },
     "execution_count": 20,
     "metadata": {},
     "output_type": "execute_result"
    }
   ],
   "source": [
    "# Core neuromaps modules\n",
    "from neuromaps.datasets import fetch_annotation, fetch_atlas\n",
    "from neuromaps.transforms import (\n",
    "    fsaverage_to_fslr,\n",
    "    fslr_to_fslr,\n",
    "    civet_to_fslr,\n",
    "    mni152_to_fslr\n",
    ")\n",
    "from neuromaps.images import load_data, load_gifti\n",
    "from neuromaps.stats import compare_images  # optional, for later correlations\n",
    "from neuromaps.parcellate import Parcellater  # optional, for future analyses\n",
    "from neuromaps import transforms  # optional, for direct access to transform functions\n",
    "\n",
    "# Standard libraries\n",
    "import os\n",
    "from pathlib import Path\n",
    "\n",
    "# Numeric and plotting\n",
    "import numpy as np\n",
    "import matplotlib.pyplot as plt\n",
    "import nibabel as nib\n",
    "\n",
    "import os\n",
    "\n",
    "# Add Connectome Workbench to PATH for neuromaps\n",
    "os.environ[\"PATH\"] = \"/Applications/Workbench/bin_macosxub:\" + os.environ[\"PATH\"]\n",
    "\n",
    "# Test that wb_command is now visible\n",
    "import subprocess\n",
    "subprocess.run([\"wb_command\", \"-version\"])\n"
   ]
  },
  {
   "cell_type": "markdown",
   "id": "e7f99e55",
   "metadata": {},
   "source": [
    "## Background"
   ]
  },
  {
   "cell_type": "markdown",
   "id": "6e2f9693",
   "metadata": {},
   "source": [
    "In the neuromaps paper, when comparing a source map (e.g., the schizophrenia map in MNI152) to multiple target maps, they always transformed the source map into the coordinate system of the target map."
   ]
  },
  {
   "cell_type": "markdown",
   "id": "d1d18b21",
   "metadata": {},
   "source": [
    "However, for our source map (hcps1200 thickness fsLR 32k) and most target maps are already in surface spaces (fsLR, fsaverage, CIVET), and sometimes even the same one. So, we just apply that same rule logically but adapt it based on resolution."
   ]
  },
  {
   "cell_type": "markdown",
   "id": "95ef8400",
   "metadata": {},
   "source": [
    "Rules:\n",
    "- If target and source share the same space and density → no transformation.\n",
    "- If they share the same space but different densities → transform the higher-resolution dataset to the lower-resolution one.\n",
    "- If they are in different spaces (fsaverage, CIVET, MNI152) → transform the target map to the source’s space (fsLR 32k).\n",
    "This keeps everything aligned to a single reference grid for correlation"
   ]
  },
  {
   "cell_type": "markdown",
   "id": "edee646a",
   "metadata": {},
   "source": [
    "Assessing the impact of coordinate system\n",
    "When transforming two datasets (that is, a source and target dataset) defined in distinct coordinate spaces to a common system there are at least three options available: transform the source dataset to the system of the target, transform the target dataset to the system of the source, or transform both source and target datasets to an alternate system. If comparisons are being made across several pairs of datasets a fourth option becomes available: always transform the higher resolution dataset to the system of the lower-resolution dataset."
   ]
  },
  {
   "cell_type": "markdown",
   "id": "07a976ab",
   "metadata": {},
   "source": [
    "## Source Map"
   ]
  },
  {
   "cell_type": "code",
   "execution_count": 21,
   "id": "b1e782b5",
   "metadata": {},
   "outputs": [
    {
     "name": "stdout",
     "output_type": "stream",
     "text": [
      "\n",
      "[References] Please cite the following papers if you are using this data:\n",
      "\n",
      "  For {'source': 'hcps1200', 'desc': 'thickness', 'space': 'fsLR', 'den': '32k'}:\n",
      "  [primary]:\n",
      "    Matthew F Glasser, Timothy S Coalson, Emma C Robinson, Carl D Hacker, John Harwell, Essa Yacoub, Kamil Ugurbil, Jesper Andersson, Christian F Beckmann, Mark Jenkinson, and others. A multi-modal parcellation of human cerebral cortex. Nature, 536(7615):171–178, 2016.\n",
      "  [secondary]:\n",
      "    \n"
     ]
    }
   ],
   "source": [
    "src_thick = fetch_annotation(source='hcps1200', desc='thickness', space='fsLR', den='32k')\n",
    "ref_space = (\"fsLR\", \"32k\")"
   ]
  },
  {
   "cell_type": "markdown",
   "id": "6ea15fb3",
   "metadata": {},
   "source": [
    "## Target Maps"
   ]
  },
  {
   "cell_type": "markdown",
   "id": "e00e49ee",
   "metadata": {},
   "source": [
    "| #      | Category                                               | Source          | Description                | Space     | Density |\n",
    "| ------ | ------------------------------------------------------ | --------------- | -------------------------- | --------- | ------- |\n",
    "| **1**  | Genomics / PC1                                         | `abagen`        | `genepc1`                  | fsaverage | 10k     |\n",
    "| **2**  | T1w/T2w Ratio (Myelin Map)                             | `hcps1200`      | `myelinmap`                | fsLR      | 32k     |\n",
    "| **3**  | Cortical Thickness                                     | `hcps1200`      | `thickness`                | fsLR      | 32k     |\n",
    "| **4**  | Developmental Expansion                                | `hill2010`      | `devexp`                   | fsLR      | 164k    |\n",
    "| **5**  | Evolutionary Expansion (Human–Macaque)                 | `hill2010`      | `evolutionary_expansion`   | fsLR      | 32k     |\n",
    "| **6**  | Functional Gradient (PC1)                              | `margulies2016` | `functional_gradient_pc1`  | fsLR      | 32k     |\n",
    "| **7**  | Intersubject Variability                               | `mueller2013`   | `intersubject_variability` | fsLR      | 32k     |\n",
    "| **8**  | Cerebral Blood Flow (CBF)                              | `raichle`       | `cbf`                      | fsLR      | 164k    |\n",
    "| **9**  | Cerebral Blood Volume (CBV)                            | `raichle`       | `cbv`                      | fsLR      | 164k    |\n",
    "| **10** | Oxygen Metabolism (CMRO₂)                              | `raichle`       | `cmr02`                    | fsLR      | 164k    |\n",
    "| **11** | Glucose Metabolism (CMRGLC)                            | `raichle`       | `cmrglc`                   | fsLR      | 164k    |\n",
    "| **12** | NIH Allometric Scaling (Developmental Expansion Proxy) | `reardon2018`   | `scalingnih`               | CIVET     | 41k     |\n",
    "| **13** | PNC Allometric Scaling                                 | `reardon2018`   | `scalingpnc`               | CIVET     | 41k     |\n"
   ]
  },
  {
   "cell_type": "markdown",
   "id": "34c083a1",
   "metadata": {},
   "source": [
    "## Transformations"
   ]
  },
  {
   "cell_type": "markdown",
   "id": "e048c636",
   "metadata": {},
   "source": [
    "### PC1 gene expression"
   ]
  },
  {
   "cell_type": "code",
   "execution_count": 22,
   "id": "09af3099",
   "metadata": {},
   "outputs": [
    {
     "name": "stdout",
     "output_type": "stream",
     "text": [
      "\n",
      "[References] Please cite the following papers if you are using this data:\n",
      "\n",
      "  For {'source': 'abagen', 'desc': 'genepc1', 'space': 'fsaverage', 'den': '10k'}:\n",
      "  [primary]:\n",
      "    Michael J Hawrylycz, Ed S Lein, Angela L Guillozet-Bongaarts, Elaine H Shen, Lydia Ng, Jeremy A Miller, Louie N Van De Lagemaat, Kimberly A Smith, Amanda Ebbert, Zackery L Riley, and others. An anatomically comprehensive atlas of the adult human brain transcriptome. Nature, 489(7416):391, 2012.\n",
      "    Ross D Markello, Aurina Arnatkeviciute, Jean-Baptiste Poline, Ben D Fulcher, Alex Fornito, and Bratislav Misic. Standardizing workflows in imaging transcriptomics with the abagen toolbox. eLife, 10:e72129, 2021.\n",
      "  [secondary]:\n",
      "    \n"
     ]
    }
   ],
   "source": [
    "genepc1 = fetch_annotation(source='abagen', desc='genepc1', space='fsaverage', den='10k')\n",
    "genepc1_fsLR32k = fsaverage_to_fslr(genepc1, target_density='32k')"
   ]
  },
  {
   "cell_type": "markdown",
   "id": "8bb31602",
   "metadata": {},
   "source": [
    "### T1w/T2w ratio (Myelin map)"
   ]
  },
  {
   "cell_type": "code",
   "execution_count": 23,
   "id": "e9b2a582",
   "metadata": {},
   "outputs": [
    {
     "name": "stdout",
     "output_type": "stream",
     "text": [
      "\n",
      "[References] Please cite the following papers if you are using this data:\n",
      "\n",
      "  For {'source': 'hcps1200', 'desc': 'myelinmap', 'space': 'fsLR', 'den': '32k'}:\n",
      "  [primary]:\n",
      "    Matthew F Glasser, Timothy S Coalson, Emma C Robinson, Carl D Hacker, John Harwell, Essa Yacoub, Kamil Ugurbil, Jesper Andersson, Christian F Beckmann, Mark Jenkinson, and others. A multi-modal parcellation of human cerebral cortex. Nature, 536(7615):171–178, 2016.\n",
      "  [secondary]:\n",
      "    \n"
     ]
    }
   ],
   "source": [
    "myelinmap = fetch_annotation(source='hcps1200', desc='myelinmap', space='fsLR', den='32k')\n",
    "myelinmap_fsLR32k = myelinmap  # already in target space\n"
   ]
  },
  {
   "cell_type": "markdown",
   "id": "ee8f0c22",
   "metadata": {},
   "source": [
    "### Cortical thickness"
   ]
  },
  {
   "cell_type": "code",
   "execution_count": 24,
   "id": "02fa7ac4",
   "metadata": {},
   "outputs": [
    {
     "name": "stdout",
     "output_type": "stream",
     "text": [
      "\n",
      "[References] Please cite the following papers if you are using this data:\n",
      "\n",
      "  For {'source': 'hcps1200', 'desc': 'thickness', 'space': 'fsLR', 'den': '32k'}:\n",
      "  [primary]:\n",
      "    Matthew F Glasser, Timothy S Coalson, Emma C Robinson, Carl D Hacker, John Harwell, Essa Yacoub, Kamil Ugurbil, Jesper Andersson, Christian F Beckmann, Mark Jenkinson, and others. A multi-modal parcellation of human cerebral cortex. Nature, 536(7615):171–178, 2016.\n",
      "  [secondary]:\n",
      "    \n"
     ]
    }
   ],
   "source": [
    "thickness = fetch_annotation(source='hcps1200', desc='thickness', space='fsLR', den='32k')\n",
    "thickness_fsLR32k = thickness  # already in target space"
   ]
  },
  {
   "cell_type": "markdown",
   "id": "652f5409",
   "metadata": {},
   "source": [
    "### Developmental expansion (PNC)\n",
    "\n"
   ]
  },
  {
   "cell_type": "code",
   "execution_count": 25,
   "id": "5c958bda",
   "metadata": {},
   "outputs": [
    {
     "name": "stdout",
     "output_type": "stream",
     "text": [
      "\n",
      "[References] Please cite the following papers if you are using this data:\n",
      "\n",
      "  For {'source': 'hill2010', 'desc': 'devexp', 'space': 'fsLR', 'den': '164k'}:\n",
      "  [primary]:\n",
      "    Jason Hill, Terrie Inder, Jeffrey Neil, Donna Dierker, John Harwell, and David Van Essen. Similar patterns of cortical expansion during human development and evolution. Proceedings of the National Academy of Sciences, 107(29):13135–13140, 2010.\n",
      "  [secondary]:\n",
      "    \n",
      "<class 'str'> /Users/katy/neuromaps-data/annotations/hill2010/devexp/fsLR/source-hill2010_desc-devexp_space-fsLR_den-164k_hemi-R_feature.func.gii\n"
     ]
    }
   ],
   "source": [
    "devexp = fetch_annotation(source='hill2010', desc='devexp', space='fsLR', den='164k')\n",
    "print(type(devexp), devexp)"
   ]
  },
  {
   "cell_type": "markdown",
   "id": "507d56a1",
   "metadata": {},
   "source": [
    "Because hill2010/devexp only exists for the right hemisphere we transformed it like this:"
   ]
  },
  {
   "cell_type": "code",
   "execution_count": 26,
   "id": "60b1c174",
   "metadata": {},
   "outputs": [
    {
     "name": "stdout",
     "output_type": "stream",
     "text": [
      "\n",
      "[References] Please cite the following papers if you are using this data:\n",
      "\n",
      "  For {'source': 'hill2010', 'desc': 'devexp', 'space': 'fsLR', 'den': '164k'}:\n",
      "  [primary]:\n",
      "    Jason Hill, Terrie Inder, Jeffrey Neil, Donna Dierker, John Harwell, and David Van Essen. Similar patterns of cortical expansion during human development and evolution. Proceedings of the National Academy of Sciences, 107(29):13135–13140, 2010.\n",
      "  [secondary]:\n",
      "    \n",
      "(32492,)\n"
     ]
    }
   ],
   "source": [
    "devexp = fetch_annotation(source='hill2010', desc='devexp', space='fsLR', den='164k')\n",
    "devexp_fsLR = fslr_to_fslr(devexp, '32k', hemi='R')\n",
    "devexp_rh_32k, = devexp_fsLR\n",
    "\n",
    "# Check data shape\n",
    "print(devexp_rh_32k.agg_data().shape)"
   ]
  },
  {
   "cell_type": "markdown",
   "id": "f8a8dcb3",
   "metadata": {},
   "source": [
    "### Evolutionary expansion\n",
    "\n"
   ]
  },
  {
   "cell_type": "code",
   "execution_count": 27,
   "id": "12185a84",
   "metadata": {},
   "outputs": [
    {
     "name": "stdout",
     "output_type": "stream",
     "text": [
      "\n",
      "[References] Please cite the following papers if you are using this data:\n"
     ]
    }
   ],
   "source": [
    "evoexp = fetch_annotation(source='hill2010', desc='evolutionary_expansion', space='fsLR', den='32k')\n",
    "evoexp_fsLR32k = evoexp\n"
   ]
  },
  {
   "cell_type": "markdown",
   "id": "d52548ac",
   "metadata": {},
   "source": [
    "### Functional gradient (FC grad 1)\n",
    "\n"
   ]
  },
  {
   "cell_type": "code",
   "execution_count": 28,
   "id": "2f62d8ce",
   "metadata": {},
   "outputs": [
    {
     "name": "stdout",
     "output_type": "stream",
     "text": [
      "\n",
      "[References] Please cite the following papers if you are using this data:\n"
     ]
    }
   ],
   "source": [
    "gradient_pc1 = fetch_annotation(source='margulies2016', desc='functional_gradient_pc1', space='fsLR', den='32k')\n",
    "gradient_pc1_fsLR32k = gradient_pc1\n"
   ]
  },
  {
   "cell_type": "markdown",
   "id": "cb2905f5",
   "metadata": {},
   "source": [
    "### Intersubject variability\n",
    "\n"
   ]
  },
  {
   "cell_type": "code",
   "execution_count": 29,
   "id": "3911c335",
   "metadata": {},
   "outputs": [
    {
     "name": "stdout",
     "output_type": "stream",
     "text": [
      "\n",
      "[References] Please cite the following papers if you are using this data:\n"
     ]
    }
   ],
   "source": [
    "isv = fetch_annotation(source='mueller2013', desc='intersubject_variability', space='fsLR', den='32k')\n",
    "isv_fsLR32k = isv\n"
   ]
  },
  {
   "cell_type": "markdown",
   "id": "cad6cdba",
   "metadata": {},
   "source": [
    "## Downsample from 164k → 32k"
   ]
  },
  {
   "cell_type": "markdown",
   "id": "3ec050ff",
   "metadata": {},
   "source": [
    "### Cerebral blood flow (CBF)\n",
    "\n"
   ]
  },
  {
   "cell_type": "code",
   "execution_count": 30,
   "id": "598b68a3",
   "metadata": {},
   "outputs": [
    {
     "name": "stdout",
     "output_type": "stream",
     "text": [
      "\n",
      "[References] Please cite the following papers if you are using this data:\n",
      "\n",
      "  For {'source': 'raichle', 'desc': 'cbf', 'space': 'fsLR', 'den': '164k'}:\n",
      "  [primary]:\n",
      "    S Neil Vaishnavi, Andrei G Vlassenko, Melissa M Rundle, Abraham Z Snyder, Mark A Mintun, and Marcus E Raichle. Regional aerobic glycolysis in the human brain. Proceedings of the National Academy of Sciences, 107(41):17757–17762, 2010.\n",
      "  [secondary]:\n",
      "    \n"
     ]
    }
   ],
   "source": [
    "cbf = fetch_annotation(source='raichle', desc='cbf', space='fsLR', den='164k')\n",
    "cbf_fsLR32k = fslr_to_fslr(cbf, target_density='32k')"
   ]
  },
  {
   "cell_type": "markdown",
   "id": "8a42ce03",
   "metadata": {},
   "source": [
    "### Cerebral blood volume (CBV)\n",
    "\n"
   ]
  },
  {
   "cell_type": "code",
   "execution_count": 31,
   "id": "7ed99aca",
   "metadata": {},
   "outputs": [
    {
     "name": "stdout",
     "output_type": "stream",
     "text": [
      "\n",
      "[References] Please cite the following papers if you are using this data:\n",
      "\n",
      "  For {'source': 'raichle', 'desc': 'cbv', 'space': 'fsLR', 'den': '164k'}:\n",
      "  [primary]:\n",
      "    S Neil Vaishnavi, Andrei G Vlassenko, Melissa M Rundle, Abraham Z Snyder, Mark A Mintun, and Marcus E Raichle. Regional aerobic glycolysis in the human brain. Proceedings of the National Academy of Sciences, 107(41):17757–17762, 2010.\n",
      "  [secondary]:\n",
      "    \n"
     ]
    }
   ],
   "source": [
    "cbv = fetch_annotation(source='raichle', desc='cbv', space='fsLR', den='164k')\n",
    "cbv_fsLR32k = fslr_to_fslr(cbv, target_density='32k')"
   ]
  },
  {
   "cell_type": "markdown",
   "id": "09e8690a",
   "metadata": {},
   "source": [
    "### Oxygen metabolism (CMRO2)\n",
    "\n"
   ]
  },
  {
   "cell_type": "code",
   "execution_count": 32,
   "id": "284710eb",
   "metadata": {},
   "outputs": [
    {
     "name": "stdout",
     "output_type": "stream",
     "text": [
      "\n",
      "[References] Please cite the following papers if you are using this data:\n",
      "\n",
      "  For {'source': 'raichle', 'desc': 'cmr02', 'space': 'fsLR', 'den': '164k'}:\n",
      "  [primary]:\n",
      "    S Neil Vaishnavi, Andrei G Vlassenko, Melissa M Rundle, Abraham Z Snyder, Mark A Mintun, and Marcus E Raichle. Regional aerobic glycolysis in the human brain. Proceedings of the National Academy of Sciences, 107(41):17757–17762, 2010.\n",
      "  [secondary]:\n",
      "    \n"
     ]
    }
   ],
   "source": [
    "cmro2 = fetch_annotation(source='raichle', desc='cmr02', space='fsLR', den='164k')\n",
    "cmro2_fsLR32k = fslr_to_fslr(cmro2, target_density='32k')"
   ]
  },
  {
   "cell_type": "markdown",
   "id": "62f5cb0e",
   "metadata": {},
   "source": [
    "### Glucose metabolism (CMRGlu)\n",
    "\n"
   ]
  },
  {
   "cell_type": "code",
   "execution_count": 33,
   "id": "f0c9b341",
   "metadata": {},
   "outputs": [
    {
     "name": "stdout",
     "output_type": "stream",
     "text": [
      "\n",
      "[References] Please cite the following papers if you are using this data:\n",
      "\n",
      "  For {'source': 'raichle', 'desc': 'cmrglc', 'space': 'fsLR', 'den': '164k'}:\n",
      "  [primary]:\n",
      "    S Neil Vaishnavi, Andrei G Vlassenko, Melissa M Rundle, Abraham Z Snyder, Mark A Mintun, and Marcus E Raichle. Regional aerobic glycolysis in the human brain. Proceedings of the National Academy of Sciences, 107(41):17757–17762, 2010.\n",
      "  [secondary]:\n",
      "    \n"
     ]
    }
   ],
   "source": [
    "cmrglc = fetch_annotation(source='raichle', desc='cmrglc', space='fsLR', den='164k')\n",
    "cmrglc_fsLR32k = fslr_to_fslr(cmrglc, target_density='32k')"
   ]
  },
  {
   "cell_type": "markdown",
   "id": "3c7d270f",
   "metadata": {},
   "source": [
    "## CIVET → fsLR 32k"
   ]
  },
  {
   "cell_type": "markdown",
   "id": "f83fc62e",
   "metadata": {},
   "source": [
    "### Allometric scaling (NIH)\n",
    "\n"
   ]
  },
  {
   "cell_type": "code",
   "execution_count": 34,
   "id": "2b6e69fe",
   "metadata": {},
   "outputs": [
    {
     "name": "stdout",
     "output_type": "stream",
     "text": [
      "\n",
      "[References] Please cite the following papers if you are using this data:\n",
      "\n",
      "  For {'source': 'reardon2018', 'desc': 'scalingnih', 'space': 'civet', 'den': '41k'}:\n",
      "  [primary]:\n",
      "    PK Reardon, Jakob Seidlitz, Simon Vandekar, Siyuan Liu, Raihaan Patel, Min Tae M Park, Aaron Alexander-Bloch, Liv S Clasen, Jonathan D Blumenthal, Francois M Lalonde, and others. Normative brain size variation and brain shape diversity in humans. Science, 360(6394):1222–1227, 2018.\n",
      "  [secondary]:\n",
      "    \n"
     ]
    }
   ],
   "source": [
    "scalingnih = fetch_annotation(source='reardon2018', desc='scalingnih', space='civet', den='41k')\n",
    "scalingnih_fsLR32k = civet_to_fslr(scalingnih, target_density='32k')"
   ]
  },
  {
   "cell_type": "markdown",
   "id": "3d8535ab",
   "metadata": {},
   "source": [
    "### Allometric scaling (PNC)\n",
    "\n"
   ]
  },
  {
   "cell_type": "code",
   "execution_count": 35,
   "id": "a0062b70",
   "metadata": {},
   "outputs": [
    {
     "name": "stdout",
     "output_type": "stream",
     "text": [
      "\n",
      "[References] Please cite the following papers if you are using this data:\n",
      "\n",
      "  For {'source': 'reardon2018', 'desc': 'scalingpnc', 'space': 'civet', 'den': '41k'}:\n",
      "  [primary]:\n",
      "    PK Reardon, Jakob Seidlitz, Simon Vandekar, Siyuan Liu, Raihaan Patel, Min Tae M Park, Aaron Alexander-Bloch, Liv S Clasen, Jonathan D Blumenthal, Francois M Lalonde, and others. Normative brain size variation and brain shape diversity in humans. Science, 360(6394):1222–1227, 2018.\n",
      "  [secondary]:\n",
      "    \n"
     ]
    }
   ],
   "source": [
    "scalingpnc = fetch_annotation(source='reardon2018', desc='scalingpnc', space='civet', den='41k')\n",
    "scalingpnc_fsLR32k = civet_to_fslr(scalingpnc, target_density='32k')"
   ]
  }
 ],
 "metadata": {
  "kernelspec": {
   "display_name": "base",
   "language": "python",
   "name": "python3"
  },
  "language_info": {
   "codemirror_mode": {
    "name": "ipython",
    "version": 3
   },
   "file_extension": ".py",
   "mimetype": "text/x-python",
   "name": "python",
   "nbconvert_exporter": "python",
   "pygments_lexer": "ipython3",
   "version": "3.12.2"
  }
 },
 "nbformat": 4,
 "nbformat_minor": 5
}
